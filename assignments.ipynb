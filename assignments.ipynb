{
 "cells": [
  {
   "cell_type": "markdown",
   "id": "cd5908b6-2c79-40b9-8bae-06632109e65b",
   "metadata": {
    "tags": []
   },
   "source": [
    "# Laboratorijska vaja: Zgodovinske šifre\n",
    "\n",
    "Namen laboratorijske vaje se je spoznati z izbranimi zgodovinskimi šiframi, \n",
    "jih implementirati, nato pa jih tudi uspešno napasti. \n",
    "\n",
    "Podrobnosti posameznih šifer poiščite v prosojnicah s predavanj.\n",
    "\n",
    "## Pomožne funkcije in spremenljivke\n",
    "\n",
    "Za začetek v globalno spremenljivko `ALPHABET` zapišimo abecedo znakov. \n",
    "V našem primeru abeceda vsebuje male slovenske črke in presledek: primere bomo\n",
    "poenostavili, tako da bomo izpuščali velike črke, števke, ločila in ostale znake.\n",
    "\n",
    "Funkcija `normalize` filtrira poljuben niz in iz njega odstrani vse znake, ki niso\n",
    "del naše abecede. Funkcija `valid_input` vrne `True`, če in samo če so vsi znaki v\n",
    "podanem niz del naše abecede."
   ]
  },
  {
   "cell_type": "code",
   "execution_count": null,
   "id": "7d662f82-6cee-45e2-92f3-7cae69747781",
   "metadata": {
    "tags": []
   },
   "outputs": [],
   "source": [
    "ALPHABET = 'abcčdefghijklmnoprsštuvzž '\n",
    "\n",
    "\n",
    "def normalize(msg):\n",
    "    msg = \" \".join(msg.lower().split())\n",
    "    return \"\".join(x for x in msg if x in ALPHABET)\n",
    "\n",
    "\n",
    "def valid_input(data):\n",
    "    return all(x in ALPHABET for x in data)"
   ]
  },
  {
   "cell_type": "markdown",
   "id": "9909e37b-9a9f-4ae5-8627-dba7e8c6ba4f",
   "metadata": {},
   "source": [
    "## Naloga 1: Zamična šifra\n",
    "\n",
    "Pri zamični šifri znake besedila zamaknemo za toliko mest kot določa črka v ključu. Pri implementaciji si pomagajte z globalno spremenljivko `ALPHABET`.\n",
    "\n",
    "Metoda `enc_shift(key, pt)` naj implementira šifrirni algoritem, metoda `dec_shift(key, ct)` pa dešifrirnega."
   ]
  },
  {
   "cell_type": "code",
   "execution_count": null,
   "id": "43f6cf25-3daa-4d10-8340-7b598baa13ae",
   "metadata": {
    "tags": []
   },
   "outputs": [],
   "source": [
    "def enc_shift(key, pt):\n",
    "    pass"
   ]
  },
  {
   "cell_type": "code",
   "execution_count": null,
   "id": "07fdf295-439c-47fb-b65c-96b5c9251ba9",
   "metadata": {
    "tags": []
   },
   "outputs": [],
   "source": [
    "assert enc_shift(\"a\", \"dober dan\") == \"dober dan\"\n",
    "assert enc_shift(\"b\", \"dober dan\") == \"epcfsaebo\"\n",
    "assert enc_shift(\"c\", \"dober dan\") == \"frčgšbfcp\"\n",
    "assert enc_shift(\"č\", \"dober dan\") == \"gsdhtcgčr\""
   ]
  },
  {
   "cell_type": "code",
   "execution_count": null,
   "id": "edc0e010-9eff-4a5b-9f41-3d755864e560",
   "metadata": {
    "tags": []
   },
   "outputs": [],
   "source": [
    "def dec_shift(key, ct):\n",
    "    pass"
   ]
  },
  {
   "cell_type": "code",
   "execution_count": null,
   "id": "60999438-8d72-4037-b51c-1e930541f460",
   "metadata": {
    "tags": []
   },
   "outputs": [],
   "source": [
    "for key in ALPHABET:\n",
    "    assert dec_shift(key, enc_shift(key, \"pozdravljen svet\")) == \"pozdravljen svet\""
   ]
  },
  {
   "cell_type": "markdown",
   "id": "97470d98-dea8-4ce6-a779-18e5c2bddda7",
   "metadata": {},
   "source": [
    "## Naloga 2: Implementacija Vigenerjeve šifre\n",
    "\n",
    "Implementirajte šifrirni in dešifrirni algoritem za Vigenerjevo šifro. Podrobnosti poiščite v prosojnicah s predavanj.\n",
    "\n",
    "Namig: Implementacija je kratka, če  uporabite funkciji `enc_shift(k, pt)` ter `dec_shift(k, ct)`.\n"
   ]
  },
  {
   "cell_type": "code",
   "execution_count": null,
   "id": "79a032fd-5d47-40d7-b0ba-fad695f69ab0",
   "metadata": {
    "tags": []
   },
   "outputs": [],
   "source": [
    "def enc_vigenere(key, pt):\n",
    "    pass"
   ]
  },
  {
   "cell_type": "code",
   "execution_count": null,
   "id": "6db95785-84ae-49b1-af15-480297971728",
   "metadata": {
    "tags": []
   },
   "outputs": [],
   "source": [
    "assert enc_vigenere(\"tajno\", \"dober dan\") == \"žokšfšdjc\"\n",
    "assert enc_vigenere(\"b\", \"dober dan\") == enc_shift(\"b\", \"dober dan\")"
   ]
  },
  {
   "cell_type": "code",
   "execution_count": null,
   "id": "576b9a15-81dc-479c-a407-8815feea02b3",
   "metadata": {
    "tags": []
   },
   "outputs": [],
   "source": [
    "def dec_vigenere(key, ct):\n",
    "    pass"
   ]
  },
  {
   "cell_type": "code",
   "execution_count": null,
   "id": "28566682-737b-4ec8-bca6-3099b257cc10",
   "metadata": {
    "tags": []
   },
   "outputs": [],
   "source": [
    "for k, pt in [(\"fri\", \"pozdravljen svet\"), (\"sladoled\", \"kratke hlače in natikači\"), (\"fleifnjvlauierhfdlejkfjsčawšžćčdqšfl\", \"kratek tajnopis\")]:\n",
    "    assert dec_vigenere(k, enc_vigenere(k, pt)) == pt"
   ]
  },
  {
   "cell_type": "markdown",
   "id": "f3693f8b-840a-415a-990b-0faa7f361a71",
   "metadata": {},
   "source": [
    "## Naloga 3: Implementacija zamenjalne šifre\n",
    "\n",
    "Implementirajte algoritma šifriranja in dešifriranja za zamenjalno šifro. Pri zamenljalni šifri je ključ permutacija, ki pove, kako se znaki čistopisa zamenjajo z znaki tajnopisa. Kot primer je podan ključ $k$\n",
    "\n",
    "$$k=\\left(\\begin{array}{}\n",
    "a & b & c & \\dots & ž & \\_  \\\\\n",
    "i & r & o & \\dots & g & z \\\\\n",
    "\\end{array}\\right)\n",
    "$$\n",
    "\n",
    "Ključ k zamenja črko `a` s črko `i`, črko `b` s črko `r` itd. Naravni način implementacije take permutacije s slovarjem. Funkcija `gen_substitution_key()` je primer funkcije, ki ustvari naključno permutacijo."
   ]
  },
  {
   "cell_type": "code",
   "execution_count": null,
   "id": "39e01b64-a36c-4a85-9316-66fcc0ad074f",
   "metadata": {
    "tags": []
   },
   "outputs": [],
   "source": [
    "import random\n",
    "\n",
    "def gen_substitution_key():\n",
    "    return {p:c for p, c in zip(ALPHABET, random.sample(ALPHABET, len(ALPHABET)))}\n",
    "    # ali še krajše:  dict(zip(ALPHABET, random.sample(ALPHABET, len(ALPHABET))))"
   ]
  },
  {
   "cell_type": "code",
   "execution_count": null,
   "id": "13797559-5e8c-465b-a438-55a9ef7fadef",
   "metadata": {
    "tags": []
   },
   "outputs": [],
   "source": [
    "def enc_substitution(key, pt):\n",
    "    pass"
   ]
  },
  {
   "cell_type": "code",
   "execution_count": null,
   "id": "f9a295dc-3bd9-4808-b2a1-08802442aeae",
   "metadata": {
    "tags": []
   },
   "outputs": [],
   "source": [
    "# Nekaj testov zamikalne šifre\n",
    "k_subst = {\n",
    "    'a': 'n', 'b': 'j', 'c': 'g', 'č': 'l', 'd': 'ž', 'e': 'c', 'f': 'u', 'g': 'k', 'h': 'p',\n",
    "    'i': 'f', 'j': 'z', 'k': 'i', 'l': 'e', 'm': 't', 'n': 'š', 'o': 'm', 'p': ' ', 'r': 'b',\n",
    "    's': 'r', 'š': 'v', 't': 'a', 'u': 'č', 'v': 'o', 'z': 's', 'ž': 'h', ' ': 'd'\n",
    "}\n",
    "\n",
    "assert enc_substitution(k_subst, \"dober dan\") == \"žmjcbdžnš\"\n",
    "assert enc_substitution(k_subst, \"lahko noč\") == \"enpimdšml\""
   ]
  },
  {
   "cell_type": "code",
   "execution_count": null,
   "id": "e73527ee-9ac8-45ed-b113-2d6dcc628d65",
   "metadata": {
    "tags": []
   },
   "outputs": [],
   "source": [
    "def dec_substitution(key, ct):\n",
    "    pass"
   ]
  },
  {
   "cell_type": "code",
   "execution_count": null,
   "id": "93980383-c76a-4a2d-9389-b5cc7e0c0842",
   "metadata": {
    "tags": []
   },
   "outputs": [],
   "source": [
    "# Nekaj testov zamikalne šifre\n",
    "for pt in [\"dober dan\", \"dobro jutro\", \"lahko noč\"]:\n",
    "    k = gen_substitution_key()\n",
    "    assert dec_substitution(k, enc_substitution(k, pt)) == pt"
   ]
  },
  {
   "cell_type": "markdown",
   "id": "a702dc0b-3ba6-4686-9af0-050296b60573",
   "metadata": {},
   "source": [
    "## Kriptoanaliza in napadi na zgodovinske šifre\n",
    "\n",
    "Pri napadih na šifre bomo predpostavljali, da je šifrirana vsebina slovenska proza. Zato bomo najprej izračunali preprosto statistiko za tovrstna besedila. To bomo storili tako, da bomo (sicer zelo preprosto) statistično analizirali nekaj slovenskih besedil. Kot primer so izbrana štiri besedila iz slovenske zakonodaje: Obligacijski zakonik, Pomorski zakonik, Zakon o kazenskem postopku ter Stvarnopravni zakonik. Besedila so bila posneta s strani [Uradnega lista,](https://www.uradni-list.si) njihova vsebina pa se nahaja v podimeniku `data` v besedilnih datotekah s končnico `.txt`.\n",
    "\n",
    "Preberemo njihovo vsebino, s pomočjo funkcije `normalize` odstranimo vse znake, ki niso del naše abecede, in tako očiščeno besedilo shranimo."
   ]
  },
  {
   "cell_type": "code",
   "execution_count": null,
   "id": "a14d9b44-0b38-4108-adcd-0d75cb82784f",
   "metadata": {
    "tags": []
   },
   "outputs": [],
   "source": [
    "def load(filename):\n",
    "    with open(filename, encoding=\"utf-8\") as h:\n",
    "        return h.read()\n",
    "    \n",
    "slovenian_corpus = normalize(load(\"data/oz.txt\") + \" \" + load(\"data/zs.txt\") + \" \" + \\\n",
    "                             load(\"data/pz.txt\")+ \" \" + load(\"data/zkp.txt\"))"
   ]
  },
  {
   "cell_type": "markdown",
   "id": "9f058479-f3e2-4ed9-9965-0f2a6e975de3",
   "metadata": {},
   "source": [
    "### Frekvenčna analiza\n",
    "\n",
    "Zanima nas predvsem pogostost pojavitve posameznih znakov v naši abecedi. To dosežemo z uporabo razreda `collections.Counter`"
   ]
  },
  {
   "cell_type": "code",
   "execution_count": null,
   "id": "8bb95a6c-6ae3-46b2-9711-16c25d03313d",
   "metadata": {
    "tags": []
   },
   "outputs": [],
   "source": [
    "from collections import Counter\n",
    "\n",
    "# prešteje pojavitve znakov v podanem niz\n",
    "freqs_slovene = Counter(slovenian_corpus)\n",
    "print(\"Frekvence (absolutne) znakov v Slovenščini\")\n",
    "print(freqs_slovene)\n",
    "\n",
    "# Absolutne frekvence pretvorimo v relativne\n",
    "total = sum(freqs_slovene.values())\n",
    "relative_freqs_slovene = {k:v/total for k, v in freqs_slovene.items()}\n",
    "\n",
    "print(\"Relativne frekvence znakov v Slovenščini:\")\n",
    "print(relative_freqs_slovene)"
   ]
  },
  {
   "cell_type": "markdown",
   "id": "1333a640-3f6c-4719-b8a9-939227978b9a",
   "metadata": {},
   "source": [
    "Porazdelitev znako lahko grafično predstavimo s pomočjo knjižnice `matplotlib`."
   ]
  },
  {
   "cell_type": "code",
   "execution_count": null,
   "id": "b14ef32f-69ab-49dd-af4a-e2f5e685b9ba",
   "metadata": {
    "tags": []
   },
   "outputs": [],
   "source": [
    "import matplotlib.pyplot as plt\n",
    "\n",
    "def plot_freqs():\n",
    "    stats = dict(sorted(relative_freqs_slovene.items())) # Slovar sortiramo po abecednem vrstnem redu, da bo prikaz lepši\n",
    "\n",
    "    x = list(stats.keys())\n",
    "    y = list(stats.values())\n",
    "\n",
    "    plt.bar(x, y)\n",
    "\n",
    "    plt.xlabel('Znak')\n",
    "    plt.ylabel('Odstotek')\n",
    "    plt.title('Porazdelitev znakov v slovenskih besedilih')\n",
    "    plt.grid()\n",
    "    \n",
    "plot_freqs()"
   ]
  },
  {
   "cell_type": "markdown",
   "id": "c5db558f-c063-4189-8534-0006061b3c8f",
   "metadata": {},
   "source": [
    "## Naloga 4: Napad s surovo silo na zamično šifro\n",
    "\n",
    "Pri tej nalogi bomo izrabili dejstvo, da ima zamična šifra trivialno majhen prostor ključev. Zašifrirano vsebino bomo dešifrirali z vsemi možnimi ključi in kot pravi ključ izbrali tistega, pri katerem je dešifrirana vsebina *smiselna*.\n",
    "\n",
    "V datoteki `data/ct-shift.txt` se nahaja tajnopis šifriran z zamično šifro in neznanim ključem. S tem napadom bomo ugotovili pravi ključ in prebrali vsebino.\n",
    "\n",
    "Implementirajte funkcijo `bf_shift(ct)`, ki podani tajnopisa dešifrira z vsemi možnimi ključi. Kot rezultat na funkcija vrne seznam terk, kjer prvi element posamezne terke predstavlja šifrirni ključ, drugi element pa nekaj prvih (npr. 50) znakov dešifriranega tajnopisa. Uporabnik se lahko nato na podlagi izpisa odloči, kateri ključ je pravi."
   ]
  },
  {
   "cell_type": "code",
   "execution_count": null,
   "id": "f626a248-3e0d-4a3b-89e5-3f4b91bbe12b",
   "metadata": {
    "tags": []
   },
   "outputs": [],
   "source": [
    "def bf_shift(ct):\n",
    "    pass\n",
    "\n",
    "bf_shift(\n",
    "    load(\"data/ct-shift.txt\") # preberemo tajnopis iz datoteke   \n",
    ") # dešifriramo z vsemi mogočimi ključi"
   ]
  },
  {
   "cell_type": "markdown",
   "id": "1223e936-a335-4007-9d05-6531e4736227",
   "metadata": {
    "tags": []
   },
   "source": [
    "## Naloga 5: Avtomatiziran napad s surovo silo na zamično šifro\n",
    "\n",
    "Sedaj bomo pristop iz naloge 4 izboljšali, in sicer tako, da bo algoritem ne bo več\n",
    "potreboval pomoči uporabnika, temveč bo samodejno ugotovil, kateri ključ je pravi.\n",
    "\n",
    "To bomo naredili tako, da bomo primerjali porazdelitev znakov v običajni Slovenščini s porazdelitvijo \n",
    "znakov v dešifriranemu besedilu. Tisto dešifrirano besedilo, katerega porazdelitev znakov je najbolj\n",
    "podobna porazdelitvi znakov v običajni Slovenščini, je z veliko verjetnostjo bilo dešifrirano s pravim\n",
    "ključem.\n",
    "\n",
    "### Naloga 5.1: Implementacija funkcije `chi_sqr(freqs, rel_freqs)`\n",
    "\n",
    "Naloga bo lažje rešljiva s pomočjo pomožne funkcije `chi_sqr(freqs, rel_freqs)`, ki vzame dva slovarja.\n",
    "Prvi, `freqs`, ponazarja **absolutne** frekvence črk v dešifriranem besedilu, drugi, `rel_freqs`, pa\n",
    "**relativne** frekvence črk v ciljnem jeziku, npr. Slovenščini. Funkcija na izhodu vrne vrednost\n",
    "statistike $\\chi^2$.\n",
    "\n",
    "Podrobnosti izračuna omenjene statistike poiščite v prosojnicah s predavanj. Primer:\n",
    "```python\n",
    ">>> f = {\"a\": 340, \"b\": 620, \"c\": 100}\n",
    ">>> p = {\"a\": 0.3, \"b\": 0.5, \"c\": 0.2}\n",
    ">>> chi_sqr(f, p)\n",
    "75.9748427672956\n",
    "```\n",
    "\n",
    "Predpostavite, da podana slovarja vsebujeta iste ključe."
   ]
  },
  {
   "cell_type": "code",
   "execution_count": null,
   "id": "6fb30501-e6fa-4e25-aeb2-48f1d2411c1a",
   "metadata": {
    "tags": []
   },
   "outputs": [],
   "source": [
    "def chi_sqr(f, p):\n",
    "    pass"
   ]
  },
  {
   "cell_type": "code",
   "execution_count": null,
   "id": "248d769a-c526-4622-b3c3-3e606414eab7",
   "metadata": {
    "tags": []
   },
   "outputs": [],
   "source": [
    "assert abs(chi_sqr({\"a\": 340, \"b\": 620, \"c\": 100}, {\"a\": 0.3, \"b\": 0.5, \"c\": 0.2}) - 75.9748427672956) < 0.00001"
   ]
  },
  {
   "cell_type": "markdown",
   "id": "bc8bfee2-4bd4-40f0-a445-80e25109e25e",
   "metadata": {},
   "source": [
    "### Naloga 5.2: Avtomatizirano iskanje pravega ključa\n",
    "\n",
    "Implementirajte funkcijo `bf_shift_auto(ct, rel_freq)`, ki iz tajnopisa ter relativnih frekvenc ciljnega jezika\n",
    "ugotovi najbolj verjeten ključ, ki je bil uporabljen za šifriranje tajnopisa.\n",
    "\n",
    "Pri izdelavi statistike nad dešifriranim besedilom si pomagajte z razredom `Counter`.\n",
    "\n",
    "Funkcija naj vrne par `(k, pt)`, kjer `k` predstavlja ključ, `pt` pa prvih 50 znakov dešifriranega besedila."
   ]
  },
  {
   "cell_type": "code",
   "execution_count": null,
   "id": "f10cb77f-75bb-4745-88b8-391b7157547e",
   "metadata": {
    "tags": []
   },
   "outputs": [],
   "source": [
    "def bf_shift_auto(ct, rel_freqs):\n",
    "    pass\n",
    "\n",
    "bf_shift_auto(load(\"data/ct-shift.txt\"), relative_freqs_slovene)"
   ]
  },
  {
   "cell_type": "markdown",
   "id": "61a48274-7b17-4bbe-a661-97e92bd21cb5",
   "metadata": {},
   "source": [
    "## Naloga 6: Napad na Vigenerjevo šifro\n",
    "\n",
    "Na koncu implementirajmo še celoten napad na Vigenerjevo šifro. Implementacija bo potekala v dveh delih.\n",
    "\n",
    "### Naloga 6.1: Napad, ko je dolžina ključa znana\n",
    "\n",
    "Denimo, da je dolžina ključa $q$. Torej vemo, da se vsaki $q$-ti znak šifrira z isto zamično šifro. \n",
    "\n",
    "Pri napadu moramo tajnopis razdeliti v $q$ pod-tajnopisov, nato pa vsakega od teh razbiti z avtomatiziranim napadom na zamično šifro. Ko je znan ključ za vsakega od pod-tajnopisov, ključe združimo v celoto in cel tajnopis dešifriramo s Vigenerjevim dešifriranim algoritmom in sestavljenim ključem. Podrobnosti poiščite na prosojnicah s predavanj.\n",
    "\n",
    "Funkcija `bf_vigenere(klen, ct, rel_freqs)` vzame kot prvi argument `klen` dolžino ključa, `ct` predstavlja tajnopis, `rel_freqs` pa relativne frekvence znakov v ciljnem jeziku (v Slovenščini v našem primeru).\n",
    "\n",
    "Tajnopis je shranjen v datoteki `data/ct-vigenere.txt`, dolžina ključa pa je 26."
   ]
  },
  {
   "cell_type": "code",
   "execution_count": null,
   "id": "ddd8d2c8-de57-441d-82f1-d8af029edb17",
   "metadata": {
    "tags": []
   },
   "outputs": [],
   "source": [
    "def bf_vigenere(klen, ct, rel_freqs):\n",
    "    pass\n",
    "\n",
    "# dešifriraj tajnopis\n",
    "bf_vigenere(26, load(\"data/ct-vigenere.txt\"), relative_freqs_slovene)"
   ]
  },
  {
   "cell_type": "markdown",
   "id": "7c9d9a8d-f997-43a8-9112-b93921c7aede",
   "metadata": {},
   "source": [
    "### Naloga 6.2: Napad, ko dolžina ključa ni znana\n",
    "\n",
    "Na koncu ostane še primer, ko napadalec dolžine ključa ne pozna. V tem primeru mora napadalec le preskusiti vse ključe od dolžine 1 pa do neke zgornje meje $q_\\max$, katero si zastavi sam.\n",
    "\n",
    "Ko najde ključ, ki tajnopis dešifrira v neko smisleno besedilo, je naloga končana. Pri ugotavljanju, ali je vsebina smiselna, uporabite statistiko $\\chi^2$ oz. funkcijo `chi_sqr(f, p)`.\n",
    "\n",
    "Funkcija `break_vigenere(ct, rel_freqs, max_klen=30)` na vhodu vzame tajnopis `ct`, relativne frekvence znakov ciljnega jezika `rel_freqs` ter opcijski argument `max_klen`, ki podaja zgornjo mejo dolžine ključa t. i. $q_\\max$. Funkcija naj vrne par `(k, pt)`, ki predstavlja ključ in dešifriran tajnopis.\n",
    "\n",
    "Primer tajnopisa šifriranega z neznano dolžino ključa se nahaja v datoteki `data/ct-vigenere-2.txt`."
   ]
  },
  {
   "cell_type": "code",
   "execution_count": null,
   "id": "0d160f04-1d61-4026-8aab-1ddaac19c4c0",
   "metadata": {
    "tags": []
   },
   "outputs": [],
   "source": [
    "def break_vigenere(ct, rel_freqs, max_klen=30):\n",
    "    pass\n",
    "\n",
    "break_vigenere(load(\"data/ct-vigenere-2.txt\"), relative_freqs_slovene)"
   ]
  }
 ],
 "metadata": {
  "kernelspec": {
   "display_name": "Python 3 (ipykernel)",
   "language": "python",
   "name": "python3"
  },
  "language_info": {
   "codemirror_mode": {
    "name": "ipython",
    "version": 3
   },
   "file_extension": ".py",
   "mimetype": "text/x-python",
   "name": "python",
   "nbconvert_exporter": "python",
   "pygments_lexer": "ipython3",
   "version": "3.11.5"
  }
 },
 "nbformat": 4,
 "nbformat_minor": 5
}
